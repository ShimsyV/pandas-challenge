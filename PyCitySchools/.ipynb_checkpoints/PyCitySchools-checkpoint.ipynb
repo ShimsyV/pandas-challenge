{
 "cells": [
  {
   "cell_type": "markdown",
   "metadata": {},
   "source": [
    "# **PyCitySchools Challenge**\n",
    "\n",
    "You are the Chief Data Scientist for your city's school district. In this capacity, you'll be helping the school board and mayor make strategic decisions regarding future school budgets and priorities.\n",
    "\n",
    "As a first task, you've been asked to analyze the district-wide standardized test results. You'll be given access to every student's math and reading scores, as well as various information on the schools they attend. Your responsibility is to aggregate the data to and showcase obvious trends in school performance.\n"
   ]
  },
  {
   "cell_type": "markdown",
   "metadata": {},
   "source": [
    "#### **Import Dependencies**"
   ]
  },
  {
   "cell_type": "code",
   "execution_count": 1,
   "metadata": {},
   "outputs": [],
   "source": [
    "import pandas as pd\n",
    "import os"
   ]
  },
  {
   "cell_type": "markdown",
   "metadata": {},
   "source": [
    "#### Set the path to the data files (*Schools_complete.csv*) and (*Students_complete.csv*)"
   ]
  },
  {
   "cell_type": "code",
   "execution_count": 2,
   "metadata": {},
   "outputs": [],
   "source": [
    "schools_file = os.path.join(\".\", \"Resources\",\"Schools_complete.csv\")\n",
    "students_file = os.path.join(\".\", \"Resources\",\"Students_complete.csv\")"
   ]
  },
  {
   "cell_type": "markdown",
   "metadata": {},
   "source": [
    "#### Read the schools_complete csv file and display with pandas"
   ]
  },
  {
   "cell_type": "code",
   "execution_count": 3,
   "metadata": {},
   "outputs": [
    {
     "data": {
      "text/html": [
       "<div>\n",
       "<style scoped>\n",
       "    .dataframe tbody tr th:only-of-type {\n",
       "        vertical-align: middle;\n",
       "    }\n",
       "\n",
       "    .dataframe tbody tr th {\n",
       "        vertical-align: top;\n",
       "    }\n",
       "\n",
       "    .dataframe thead th {\n",
       "        text-align: right;\n",
       "    }\n",
       "</style>\n",
       "<table border=\"1\" class=\"dataframe\">\n",
       "  <thead>\n",
       "    <tr style=\"text-align: right;\">\n",
       "      <th></th>\n",
       "      <th>School ID</th>\n",
       "      <th>school_name</th>\n",
       "      <th>type</th>\n",
       "      <th>size</th>\n",
       "      <th>budget</th>\n",
       "    </tr>\n",
       "  </thead>\n",
       "  <tbody>\n",
       "    <tr>\n",
       "      <th>0</th>\n",
       "      <td>0</td>\n",
       "      <td>Huang High School</td>\n",
       "      <td>District</td>\n",
       "      <td>2917</td>\n",
       "      <td>1910635</td>\n",
       "    </tr>\n",
       "    <tr>\n",
       "      <th>1</th>\n",
       "      <td>1</td>\n",
       "      <td>Figueroa High School</td>\n",
       "      <td>District</td>\n",
       "      <td>2949</td>\n",
       "      <td>1884411</td>\n",
       "    </tr>\n",
       "    <tr>\n",
       "      <th>2</th>\n",
       "      <td>2</td>\n",
       "      <td>Shelton High School</td>\n",
       "      <td>Charter</td>\n",
       "      <td>1761</td>\n",
       "      <td>1056600</td>\n",
       "    </tr>\n",
       "    <tr>\n",
       "      <th>3</th>\n",
       "      <td>3</td>\n",
       "      <td>Hernandez High School</td>\n",
       "      <td>District</td>\n",
       "      <td>4635</td>\n",
       "      <td>3022020</td>\n",
       "    </tr>\n",
       "    <tr>\n",
       "      <th>4</th>\n",
       "      <td>4</td>\n",
       "      <td>Griffin High School</td>\n",
       "      <td>Charter</td>\n",
       "      <td>1468</td>\n",
       "      <td>917500</td>\n",
       "    </tr>\n",
       "  </tbody>\n",
       "</table>\n",
       "</div>"
      ],
      "text/plain": [
       "   School ID            school_name      type  size   budget\n",
       "0          0      Huang High School  District  2917  1910635\n",
       "1          1   Figueroa High School  District  2949  1884411\n",
       "2          2    Shelton High School   Charter  1761  1056600\n",
       "3          3  Hernandez High School  District  4635  3022020\n",
       "4          4    Griffin High School   Charter  1468   917500"
      ]
     },
     "execution_count": 3,
     "metadata": {},
     "output_type": "execute_result"
    }
   ],
   "source": [
    "schools_df = pd.read_csv(schools_file)\n",
    "schools_df.head()"
   ]
  },
  {
   "cell_type": "markdown",
   "metadata": {},
   "source": [
    "#### Read the students_complete csv file and display with pandas"
   ]
  },
  {
   "cell_type": "code",
   "execution_count": 4,
   "metadata": {},
   "outputs": [
    {
     "data": {
      "text/html": [
       "<div>\n",
       "<style scoped>\n",
       "    .dataframe tbody tr th:only-of-type {\n",
       "        vertical-align: middle;\n",
       "    }\n",
       "\n",
       "    .dataframe tbody tr th {\n",
       "        vertical-align: top;\n",
       "    }\n",
       "\n",
       "    .dataframe thead th {\n",
       "        text-align: right;\n",
       "    }\n",
       "</style>\n",
       "<table border=\"1\" class=\"dataframe\">\n",
       "  <thead>\n",
       "    <tr style=\"text-align: right;\">\n",
       "      <th></th>\n",
       "      <th>Student ID</th>\n",
       "      <th>student_name</th>\n",
       "      <th>gender</th>\n",
       "      <th>grade</th>\n",
       "      <th>school_name</th>\n",
       "      <th>reading_score</th>\n",
       "      <th>math_score</th>\n",
       "    </tr>\n",
       "  </thead>\n",
       "  <tbody>\n",
       "    <tr>\n",
       "      <th>0</th>\n",
       "      <td>0</td>\n",
       "      <td>Paul Bradley</td>\n",
       "      <td>M</td>\n",
       "      <td>9th</td>\n",
       "      <td>Huang High School</td>\n",
       "      <td>66</td>\n",
       "      <td>79</td>\n",
       "    </tr>\n",
       "    <tr>\n",
       "      <th>1</th>\n",
       "      <td>1</td>\n",
       "      <td>Victor Smith</td>\n",
       "      <td>M</td>\n",
       "      <td>12th</td>\n",
       "      <td>Huang High School</td>\n",
       "      <td>94</td>\n",
       "      <td>61</td>\n",
       "    </tr>\n",
       "    <tr>\n",
       "      <th>2</th>\n",
       "      <td>2</td>\n",
       "      <td>Kevin Rodriguez</td>\n",
       "      <td>M</td>\n",
       "      <td>12th</td>\n",
       "      <td>Huang High School</td>\n",
       "      <td>90</td>\n",
       "      <td>60</td>\n",
       "    </tr>\n",
       "    <tr>\n",
       "      <th>3</th>\n",
       "      <td>3</td>\n",
       "      <td>Dr. Richard Scott</td>\n",
       "      <td>M</td>\n",
       "      <td>12th</td>\n",
       "      <td>Huang High School</td>\n",
       "      <td>67</td>\n",
       "      <td>58</td>\n",
       "    </tr>\n",
       "    <tr>\n",
       "      <th>4</th>\n",
       "      <td>4</td>\n",
       "      <td>Bonnie Ray</td>\n",
       "      <td>F</td>\n",
       "      <td>9th</td>\n",
       "      <td>Huang High School</td>\n",
       "      <td>97</td>\n",
       "      <td>84</td>\n",
       "    </tr>\n",
       "  </tbody>\n",
       "</table>\n",
       "</div>"
      ],
      "text/plain": [
       "   Student ID       student_name gender grade        school_name  \\\n",
       "0           0       Paul Bradley      M   9th  Huang High School   \n",
       "1           1       Victor Smith      M  12th  Huang High School   \n",
       "2           2    Kevin Rodriguez      M  12th  Huang High School   \n",
       "3           3  Dr. Richard Scott      M  12th  Huang High School   \n",
       "4           4         Bonnie Ray      F   9th  Huang High School   \n",
       "\n",
       "   reading_score  math_score  \n",
       "0             66          79  \n",
       "1             94          61  \n",
       "2             90          60  \n",
       "3             67          58  \n",
       "4             97          84  "
      ]
     },
     "execution_count": 4,
     "metadata": {},
     "output_type": "execute_result"
    }
   ],
   "source": [
    "students_df = pd.read_csv(students_file)\n",
    "students_df.head()"
   ]
  },
  {
   "cell_type": "markdown",
   "metadata": {},
   "source": [
    "#### **District Summary**\n",
    "\n",
    "##### **Create a high level snapshot (in table form) of the district's key metrics, including:**\n",
    "\n",
    "- Total Schools\n",
    "- Total Students\n",
    "- Total Budget    \n",
    "- Average Math Score    \n",
    "- Average Reading Score    \n",
    "- % Passing Math (The percentage of students that passed math.)    \n",
    "- % Passing Reading (The percentage of students that passed reading.)    \n",
    "- % Overall Passing (The percentage of students that passed math and reading.)  "
   ]
  },
  {
   "cell_type": "markdown",
   "metadata": {},
   "source": [
    "##### Total number of Schools\n",
    " Gives the length of unique school names to give us total number of schools"
   ]
  },
  {
   "cell_type": "code",
   "execution_count": 5,
   "metadata": {},
   "outputs": [
    {
     "name": "stdout",
     "output_type": "stream",
     "text": [
      "15\n"
     ]
    }
   ],
   "source": [
    "school_count = len(schools_df['school_name'].unique())\n",
    "print(school_count)"
   ]
  },
  {
   "cell_type": "markdown",
   "metadata": {},
   "source": [
    "##### Total number of Students\n",
    " Gives the total number of students"
   ]
  },
  {
   "cell_type": "code",
   "execution_count": 6,
   "metadata": {},
   "outputs": [
    {
     "name": "stdout",
     "output_type": "stream",
     "text": [
      "39170\n"
     ]
    }
   ],
   "source": [
    "total_student_count = students_df['student_name'].count()\n",
    "print(total_student_count)"
   ]
  },
  {
   "cell_type": "markdown",
   "metadata": {},
   "source": [
    "##### Total budget from the schools_complete csv file\n",
    " Gives the total budget"
   ]
  },
  {
   "cell_type": "code",
   "execution_count": 7,
   "metadata": {},
   "outputs": [
    {
     "name": "stdout",
     "output_type": "stream",
     "text": [
      "24649428\n"
     ]
    }
   ],
   "source": [
    "total_budget = schools_df['budget'].sum()\n",
    "print(total_budget)"
   ]
  },
  {
   "cell_type": "markdown",
   "metadata": {},
   "source": [
    "##### Average math score from Students_complete csv file\n",
    " Gives the average math score"
   ]
  },
  {
   "cell_type": "code",
   "execution_count": 8,
   "metadata": {},
   "outputs": [
    {
     "name": "stdout",
     "output_type": "stream",
     "text": [
      "78.98537145774827\n"
     ]
    }
   ],
   "source": [
    "average_math_score = students_df['math_score'].mean()\n",
    "print(average_math_score)"
   ]
  },
  {
   "cell_type": "markdown",
   "metadata": {},
   "source": [
    "##### Average reading score from Students_complete csv file\n",
    " Gives the average reading score"
   ]
  },
  {
   "cell_type": "code",
   "execution_count": 9,
   "metadata": {},
   "outputs": [
    {
     "name": "stdout",
     "output_type": "stream",
     "text": [
      "81.87784018381414\n"
     ]
    }
   ],
   "source": [
    "average_reading_score = students_df['reading_score'].mean()\n",
    "print(average_reading_score)"
   ]
  },
  {
   "cell_type": "markdown",
   "metadata": {},
   "source": [
    "##### Percentage passing Math (The percentage of students that passed math.) from Students_complete csv file\n",
    " Gives the percentage of students with a passing math score (70 or greater)"
   ]
  },
  {
   "cell_type": "code",
   "execution_count": 10,
   "metadata": {},
   "outputs": [
    {
     "name": "stdout",
     "output_type": "stream",
     "text": [
      "74.9808526933878\n"
     ]
    }
   ],
   "source": [
    "num_pass_math = students_df.loc[students_df['math_score'] >= 70]['math_score'].count()\n",
    "percent_pass_math = (num_pass_math/total_student_count)*100\n",
    "print(percent_pass_math)"
   ]
  },
  {
   "cell_type": "markdown",
   "metadata": {},
   "source": [
    "##### Percentage passing reading (The percentage of students that passed reading) from Students_complete csv file\n",
    " Gives the percentage of students with a passing reading score (70 or greater)"
   ]
  },
  {
   "cell_type": "code",
   "execution_count": 11,
   "metadata": {},
   "outputs": [
    {
     "name": "stdout",
     "output_type": "stream",
     "text": [
      "85.80546336482001\n"
     ]
    }
   ],
   "source": [
    "num_pass_reading = students_df.loc[students_df['reading_score'] >= 70]['reading_score'].count()\n",
    "percent_pass_reading = (num_pass_reading/total_student_count)*100\n",
    "print(percent_pass_reading)"
   ]
  },
  {
   "cell_type": "markdown",
   "metadata": {},
   "source": [
    "##### Percentage overall passing (The percentage of students that passed both math and reading) from Students_complete csv file)\n",
    " Gives the percentage of students that passed both math and reading (70 or greater)"
   ]
  },
  {
   "cell_type": "code",
   "execution_count": 12,
   "metadata": {},
   "outputs": [
    {
     "name": "stdout",
     "output_type": "stream",
     "text": [
      "65.17232575950983\n"
     ]
    }
   ],
   "source": [
    "overall_pass = (students_df[(students_df['math_score'] >= 70) & (students_df['reading_score'] >= 70)]['student_name'].count()/total_student_count)*100\n",
    "print(overall_pass)"
   ]
  },
  {
   "cell_type": "markdown",
   "metadata": {},
   "source": [
    "##### Create a dataframe with all the above results\n",
    " Making a dataframe with the collected information"
   ]
  },
  {
   "cell_type": "code",
   "execution_count": 13,
   "metadata": {},
   "outputs": [],
   "source": [
    "district_summary = pd.DataFrame({\"Total Schools\":[school_count],\n",
    "                               \"Total Students\":[total_student_count],\n",
    "                               \"Total Budget\" : [total_budget],\n",
    "                               \"Average Math Score\":[average_math_score],\n",
    "                               \"Average Reading Score\":[average_reading_score],\n",
    "                               \"% Passing Math\":[percent_pass_math],\n",
    "                               \"% Passing Reading\": [percent_pass_reading],\n",
    "                               \"% Overall Passing\":[overall_pass]})"
   ]
  },
  {
   "cell_type": "markdown",
   "metadata": {},
   "source": [
    "##### Formating the cells"
   ]
  },
  {
   "cell_type": "code",
   "execution_count": 14,
   "metadata": {},
   "outputs": [
    {
     "data": {
      "text/html": [
       "<style  type=\"text/css\" >\n",
       "</style><table id=\"T_674bc562_e662_11ea_aa05_ccf9e46cfbfa\" ><thead>    <tr>        <th class=\"blank level0\" ></th>        <th class=\"col_heading level0 col0\" >Total Schools</th>        <th class=\"col_heading level0 col1\" >Total Students</th>        <th class=\"col_heading level0 col2\" >Total Budget</th>        <th class=\"col_heading level0 col3\" >Average Math Score</th>        <th class=\"col_heading level0 col4\" >Average Reading Score</th>        <th class=\"col_heading level0 col5\" >% Passing Math</th>        <th class=\"col_heading level0 col6\" >% Passing Reading</th>        <th class=\"col_heading level0 col7\" >% Overall Passing</th>    </tr></thead><tbody>\n",
       "                <tr>\n",
       "                        <th id=\"T_674bc562_e662_11ea_aa05_ccf9e46cfbfalevel0_row0\" class=\"row_heading level0 row0\" >0</th>\n",
       "                        <td id=\"T_674bc562_e662_11ea_aa05_ccf9e46cfbfarow0_col0\" class=\"data row0 col0\" >15</td>\n",
       "                        <td id=\"T_674bc562_e662_11ea_aa05_ccf9e46cfbfarow0_col1\" class=\"data row0 col1\" >39170</td>\n",
       "                        <td id=\"T_674bc562_e662_11ea_aa05_ccf9e46cfbfarow0_col2\" class=\"data row0 col2\" >$24,649,428.00</td>\n",
       "                        <td id=\"T_674bc562_e662_11ea_aa05_ccf9e46cfbfarow0_col3\" class=\"data row0 col3\" >78.985371</td>\n",
       "                        <td id=\"T_674bc562_e662_11ea_aa05_ccf9e46cfbfarow0_col4\" class=\"data row0 col4\" >81.877840</td>\n",
       "                        <td id=\"T_674bc562_e662_11ea_aa05_ccf9e46cfbfarow0_col5\" class=\"data row0 col5\" >74.980853</td>\n",
       "                        <td id=\"T_674bc562_e662_11ea_aa05_ccf9e46cfbfarow0_col6\" class=\"data row0 col6\" >85.805463</td>\n",
       "                        <td id=\"T_674bc562_e662_11ea_aa05_ccf9e46cfbfarow0_col7\" class=\"data row0 col7\" >65.172326</td>\n",
       "            </tr>\n",
       "    </tbody></table>"
      ],
      "text/plain": [
       "<pandas.io.formats.style.Styler at 0x24263177988>"
      ]
     },
     "execution_count": 14,
     "metadata": {},
     "output_type": "execute_result"
    }
   ],
   "source": [
    "district_summary.style.format({\"Total Budget\": \"${:,.2f}\", \n",
    "                       \"Average Reading Score\": \"{:.6f}\", \n",
    "                       \"Average Math Score\": \"{:.6f}\", \n",
    "                       \"% Passing Math\": \"{:.6f}\", \n",
    "                       \"% Passing Reading\": \"{:.6f}\", \n",
    "                       \"Overall Passing\": \"{:.6f}\"})"
   ]
  },
  {
   "cell_type": "markdown",
   "metadata": {},
   "source": [
    "#### **School Summary**\n",
    "\n",
    "##### **Create an overview table that summarizes key metrics about each school, including:**\n",
    "\n",
    "- School Name\n",
    "- School Type\n",
    "- Total Students\n",
    "- Total School Budget\n",
    "- Per Student Budget\n",
    "- Average Math Score\n",
    "- Average Reading Score\n",
    "- % Passing Math\n",
    "- % Passing Reading\n",
    "- % Overall Passing (The percentage of students that passed math and reading.)"
   ]
  },
  {
   "cell_type": "markdown",
   "metadata": {},
   "source": [
    "##### Merge the 2 data files\n",
    "Merge the 2 data files on school"
   ]
  },
  {
   "cell_type": "code",
   "execution_count": 15,
   "metadata": {},
   "outputs": [
    {
     "data": {
      "text/html": [
       "<div>\n",
       "<style scoped>\n",
       "    .dataframe tbody tr th:only-of-type {\n",
       "        vertical-align: middle;\n",
       "    }\n",
       "\n",
       "    .dataframe tbody tr th {\n",
       "        vertical-align: top;\n",
       "    }\n",
       "\n",
       "    .dataframe thead th {\n",
       "        text-align: right;\n",
       "    }\n",
       "</style>\n",
       "<table border=\"1\" class=\"dataframe\">\n",
       "  <thead>\n",
       "    <tr style=\"text-align: right;\">\n",
       "      <th></th>\n",
       "      <th>Student ID</th>\n",
       "      <th>student_name</th>\n",
       "      <th>gender</th>\n",
       "      <th>grade</th>\n",
       "      <th>school_name</th>\n",
       "      <th>reading_score</th>\n",
       "      <th>math_score</th>\n",
       "      <th>School ID</th>\n",
       "      <th>type</th>\n",
       "      <th>size</th>\n",
       "      <th>budget</th>\n",
       "    </tr>\n",
       "  </thead>\n",
       "  <tbody>\n",
       "    <tr>\n",
       "      <th>0</th>\n",
       "      <td>0</td>\n",
       "      <td>Paul Bradley</td>\n",
       "      <td>M</td>\n",
       "      <td>9th</td>\n",
       "      <td>Huang High School</td>\n",
       "      <td>66</td>\n",
       "      <td>79</td>\n",
       "      <td>0</td>\n",
       "      <td>District</td>\n",
       "      <td>2917</td>\n",
       "      <td>1910635</td>\n",
       "    </tr>\n",
       "    <tr>\n",
       "      <th>1</th>\n",
       "      <td>1</td>\n",
       "      <td>Victor Smith</td>\n",
       "      <td>M</td>\n",
       "      <td>12th</td>\n",
       "      <td>Huang High School</td>\n",
       "      <td>94</td>\n",
       "      <td>61</td>\n",
       "      <td>0</td>\n",
       "      <td>District</td>\n",
       "      <td>2917</td>\n",
       "      <td>1910635</td>\n",
       "    </tr>\n",
       "    <tr>\n",
       "      <th>2</th>\n",
       "      <td>2</td>\n",
       "      <td>Kevin Rodriguez</td>\n",
       "      <td>M</td>\n",
       "      <td>12th</td>\n",
       "      <td>Huang High School</td>\n",
       "      <td>90</td>\n",
       "      <td>60</td>\n",
       "      <td>0</td>\n",
       "      <td>District</td>\n",
       "      <td>2917</td>\n",
       "      <td>1910635</td>\n",
       "    </tr>\n",
       "    <tr>\n",
       "      <th>3</th>\n",
       "      <td>3</td>\n",
       "      <td>Dr. Richard Scott</td>\n",
       "      <td>M</td>\n",
       "      <td>12th</td>\n",
       "      <td>Huang High School</td>\n",
       "      <td>67</td>\n",
       "      <td>58</td>\n",
       "      <td>0</td>\n",
       "      <td>District</td>\n",
       "      <td>2917</td>\n",
       "      <td>1910635</td>\n",
       "    </tr>\n",
       "    <tr>\n",
       "      <th>4</th>\n",
       "      <td>4</td>\n",
       "      <td>Bonnie Ray</td>\n",
       "      <td>F</td>\n",
       "      <td>9th</td>\n",
       "      <td>Huang High School</td>\n",
       "      <td>97</td>\n",
       "      <td>84</td>\n",
       "      <td>0</td>\n",
       "      <td>District</td>\n",
       "      <td>2917</td>\n",
       "      <td>1910635</td>\n",
       "    </tr>\n",
       "  </tbody>\n",
       "</table>\n",
       "</div>"
      ],
      "text/plain": [
       "   Student ID       student_name gender grade        school_name  \\\n",
       "0           0       Paul Bradley      M   9th  Huang High School   \n",
       "1           1       Victor Smith      M  12th  Huang High School   \n",
       "2           2    Kevin Rodriguez      M  12th  Huang High School   \n",
       "3           3  Dr. Richard Scott      M  12th  Huang High School   \n",
       "4           4         Bonnie Ray      F   9th  Huang High School   \n",
       "\n",
       "   reading_score  math_score  School ID      type  size   budget  \n",
       "0             66          79          0  District  2917  1910635  \n",
       "1             94          61          0  District  2917  1910635  \n",
       "2             90          60          0  District  2917  1910635  \n",
       "3             67          58          0  District  2917  1910635  \n",
       "4             97          84          0  District  2917  1910635  "
      ]
     },
     "execution_count": 15,
     "metadata": {},
     "output_type": "execute_result"
    }
   ],
   "source": [
    "merge_df = students_df.merge(schools_df, how = 'left', on = 'school_name')\n",
    "merge_df.head()"
   ]
  },
  {
   "cell_type": "markdown",
   "metadata": {},
   "source": [
    "##### Group by school name\n",
    "Grouping the file by school name"
   ]
  },
  {
   "cell_type": "code",
   "execution_count": 16,
   "metadata": {},
   "outputs": [
    {
     "data": {
      "text/html": [
       "<div>\n",
       "<style scoped>\n",
       "    .dataframe tbody tr th:only-of-type {\n",
       "        vertical-align: middle;\n",
       "    }\n",
       "\n",
       "    .dataframe tbody tr th {\n",
       "        vertical-align: top;\n",
       "    }\n",
       "\n",
       "    .dataframe thead th {\n",
       "        text-align: right;\n",
       "    }\n",
       "</style>\n",
       "<table border=\"1\" class=\"dataframe\">\n",
       "  <thead>\n",
       "    <tr style=\"text-align: right;\">\n",
       "      <th></th>\n",
       "      <th>Student ID</th>\n",
       "      <th>student_name</th>\n",
       "      <th>gender</th>\n",
       "      <th>grade</th>\n",
       "      <th>reading_score</th>\n",
       "      <th>math_score</th>\n",
       "      <th>School ID</th>\n",
       "      <th>type</th>\n",
       "      <th>size</th>\n",
       "      <th>budget</th>\n",
       "    </tr>\n",
       "    <tr>\n",
       "      <th>school_name</th>\n",
       "      <th></th>\n",
       "      <th></th>\n",
       "      <th></th>\n",
       "      <th></th>\n",
       "      <th></th>\n",
       "      <th></th>\n",
       "      <th></th>\n",
       "      <th></th>\n",
       "      <th></th>\n",
       "      <th></th>\n",
       "    </tr>\n",
       "  </thead>\n",
       "  <tbody>\n",
       "    <tr>\n",
       "      <th>Huang High School</th>\n",
       "      <td>0</td>\n",
       "      <td>Paul Bradley</td>\n",
       "      <td>M</td>\n",
       "      <td>9th</td>\n",
       "      <td>66</td>\n",
       "      <td>79</td>\n",
       "      <td>0</td>\n",
       "      <td>District</td>\n",
       "      <td>2917</td>\n",
       "      <td>1910635</td>\n",
       "    </tr>\n",
       "    <tr>\n",
       "      <th>Huang High School</th>\n",
       "      <td>1</td>\n",
       "      <td>Victor Smith</td>\n",
       "      <td>M</td>\n",
       "      <td>12th</td>\n",
       "      <td>94</td>\n",
       "      <td>61</td>\n",
       "      <td>0</td>\n",
       "      <td>District</td>\n",
       "      <td>2917</td>\n",
       "      <td>1910635</td>\n",
       "    </tr>\n",
       "    <tr>\n",
       "      <th>Huang High School</th>\n",
       "      <td>2</td>\n",
       "      <td>Kevin Rodriguez</td>\n",
       "      <td>M</td>\n",
       "      <td>12th</td>\n",
       "      <td>90</td>\n",
       "      <td>60</td>\n",
       "      <td>0</td>\n",
       "      <td>District</td>\n",
       "      <td>2917</td>\n",
       "      <td>1910635</td>\n",
       "    </tr>\n",
       "    <tr>\n",
       "      <th>Huang High School</th>\n",
       "      <td>3</td>\n",
       "      <td>Dr. Richard Scott</td>\n",
       "      <td>M</td>\n",
       "      <td>12th</td>\n",
       "      <td>67</td>\n",
       "      <td>58</td>\n",
       "      <td>0</td>\n",
       "      <td>District</td>\n",
       "      <td>2917</td>\n",
       "      <td>1910635</td>\n",
       "    </tr>\n",
       "    <tr>\n",
       "      <th>Huang High School</th>\n",
       "      <td>4</td>\n",
       "      <td>Bonnie Ray</td>\n",
       "      <td>F</td>\n",
       "      <td>9th</td>\n",
       "      <td>97</td>\n",
       "      <td>84</td>\n",
       "      <td>0</td>\n",
       "      <td>District</td>\n",
       "      <td>2917</td>\n",
       "      <td>1910635</td>\n",
       "    </tr>\n",
       "    <tr>\n",
       "      <th>...</th>\n",
       "      <td>...</td>\n",
       "      <td>...</td>\n",
       "      <td>...</td>\n",
       "      <td>...</td>\n",
       "      <td>...</td>\n",
       "      <td>...</td>\n",
       "      <td>...</td>\n",
       "      <td>...</td>\n",
       "      <td>...</td>\n",
       "      <td>...</td>\n",
       "    </tr>\n",
       "    <tr>\n",
       "      <th>Thomas High School</th>\n",
       "      <td>37535</td>\n",
       "      <td>Norma Mata</td>\n",
       "      <td>F</td>\n",
       "      <td>10th</td>\n",
       "      <td>76</td>\n",
       "      <td>76</td>\n",
       "      <td>14</td>\n",
       "      <td>Charter</td>\n",
       "      <td>1635</td>\n",
       "      <td>1043130</td>\n",
       "    </tr>\n",
       "    <tr>\n",
       "      <th>Thomas High School</th>\n",
       "      <td>37536</td>\n",
       "      <td>Cody Miller</td>\n",
       "      <td>M</td>\n",
       "      <td>11th</td>\n",
       "      <td>84</td>\n",
       "      <td>82</td>\n",
       "      <td>14</td>\n",
       "      <td>Charter</td>\n",
       "      <td>1635</td>\n",
       "      <td>1043130</td>\n",
       "    </tr>\n",
       "    <tr>\n",
       "      <th>Thomas High School</th>\n",
       "      <td>37537</td>\n",
       "      <td>Erik Snyder</td>\n",
       "      <td>M</td>\n",
       "      <td>9th</td>\n",
       "      <td>80</td>\n",
       "      <td>90</td>\n",
       "      <td>14</td>\n",
       "      <td>Charter</td>\n",
       "      <td>1635</td>\n",
       "      <td>1043130</td>\n",
       "    </tr>\n",
       "    <tr>\n",
       "      <th>Thomas High School</th>\n",
       "      <td>37538</td>\n",
       "      <td>Tanya Martinez</td>\n",
       "      <td>F</td>\n",
       "      <td>9th</td>\n",
       "      <td>71</td>\n",
       "      <td>69</td>\n",
       "      <td>14</td>\n",
       "      <td>Charter</td>\n",
       "      <td>1635</td>\n",
       "      <td>1043130</td>\n",
       "    </tr>\n",
       "    <tr>\n",
       "      <th>Thomas High School</th>\n",
       "      <td>37539</td>\n",
       "      <td>Noah Erickson</td>\n",
       "      <td>M</td>\n",
       "      <td>9th</td>\n",
       "      <td>86</td>\n",
       "      <td>76</td>\n",
       "      <td>14</td>\n",
       "      <td>Charter</td>\n",
       "      <td>1635</td>\n",
       "      <td>1043130</td>\n",
       "    </tr>\n",
       "  </tbody>\n",
       "</table>\n",
       "<p>75 rows × 10 columns</p>\n",
       "</div>"
      ],
      "text/plain": [
       "                    Student ID       student_name gender grade  reading_score  \\\n",
       "school_name                                                                     \n",
       "Huang High School            0       Paul Bradley      M   9th             66   \n",
       "Huang High School            1       Victor Smith      M  12th             94   \n",
       "Huang High School            2    Kevin Rodriguez      M  12th             90   \n",
       "Huang High School            3  Dr. Richard Scott      M  12th             67   \n",
       "Huang High School            4         Bonnie Ray      F   9th             97   \n",
       "...                        ...                ...    ...   ...            ...   \n",
       "Thomas High School       37535         Norma Mata      F  10th             76   \n",
       "Thomas High School       37536        Cody Miller      M  11th             84   \n",
       "Thomas High School       37537        Erik Snyder      M   9th             80   \n",
       "Thomas High School       37538     Tanya Martinez      F   9th             71   \n",
       "Thomas High School       37539      Noah Erickson      M   9th             86   \n",
       "\n",
       "                    math_score  School ID      type  size   budget  \n",
       "school_name                                                         \n",
       "Huang High School           79          0  District  2917  1910635  \n",
       "Huang High School           61          0  District  2917  1910635  \n",
       "Huang High School           60          0  District  2917  1910635  \n",
       "Huang High School           58          0  District  2917  1910635  \n",
       "Huang High School           84          0  District  2917  1910635  \n",
       "...                        ...        ...       ...   ...      ...  \n",
       "Thomas High School          76         14   Charter  1635  1043130  \n",
       "Thomas High School          82         14   Charter  1635  1043130  \n",
       "Thomas High School          90         14   Charter  1635  1043130  \n",
       "Thomas High School          69         14   Charter  1635  1043130  \n",
       "Thomas High School          76         14   Charter  1635  1043130  \n",
       "\n",
       "[75 rows x 10 columns]"
      ]
     },
     "execution_count": 16,
     "metadata": {},
     "output_type": "execute_result"
    }
   ],
   "source": [
    "grp_by_school = merge_df.set_index('school_name').groupby(['school_name'])\n",
    "grp_by_school.head()"
   ]
  },
  {
   "cell_type": "markdown",
   "metadata": {},
   "source": [
    "##### Set by school type\n",
    "Set the dataframe School name index using the type"
   ]
  },
  {
   "cell_type": "code",
   "execution_count": 17,
   "metadata": {},
   "outputs": [
    {
     "data": {
      "text/plain": [
       "school_name\n",
       "Huang High School        District\n",
       "Figueroa High School     District\n",
       "Shelton High School       Charter\n",
       "Hernandez High School    District\n",
       "Griffin High School       Charter\n",
       "Wilson High School        Charter\n",
       "Cabrera High School       Charter\n",
       "Bailey High School       District\n",
       "Holden High School        Charter\n",
       "Pena High School          Charter\n",
       "Wright High School        Charter\n",
       "Rodriguez High School    District\n",
       "Johnson High School      District\n",
       "Ford High School         District\n",
       "Thomas High School        Charter\n",
       "Name: type, dtype: object"
      ]
     },
     "execution_count": 17,
     "metadata": {},
     "output_type": "execute_result"
    }
   ],
   "source": [
    "grp_by_school_type = schools_df.set_index('school_name')['type']\n",
    "grp_by_school_type.head(20)"
   ]
  },
  {
   "cell_type": "markdown",
   "metadata": {},
   "source": [
    "##### Total students\n",
    "Find the total number of students in each school"
   ]
  },
  {
   "cell_type": "code",
   "execution_count": 18,
   "metadata": {},
   "outputs": [
    {
     "name": "stdout",
     "output_type": "stream",
     "text": [
      "school_name\n",
      "Bailey High School       4976\n",
      "Cabrera High School      1858\n",
      "Figueroa High School     2949\n",
      "Ford High School         2739\n",
      "Griffin High School      1468\n",
      "Hernandez High School    4635\n",
      "Holden High School        427\n",
      "Huang High School        2917\n",
      "Johnson High School      4761\n",
      "Pena High School          962\n",
      "Rodriguez High School    3999\n",
      "Shelton High School      1761\n",
      "Thomas High School       1635\n",
      "Wilson High School       2283\n",
      "Wright High School       1800\n",
      "Name: Student ID, dtype: int64\n"
     ]
    }
   ],
   "source": [
    "total_student = grp_by_school[\"Student ID\"].count()\n",
    "print(total_student)"
   ]
  },
  {
   "cell_type": "markdown",
   "metadata": {},
   "source": [
    "##### Total School Budget\n",
    "Find the total budget per school"
   ]
  },
  {
   "cell_type": "code",
   "execution_count": 19,
   "metadata": {},
   "outputs": [
    {
     "name": "stdout",
     "output_type": "stream",
     "text": [
      "school_name\n",
      "Huang High School        1910635\n",
      "Figueroa High School     1884411\n",
      "Shelton High School      1056600\n",
      "Hernandez High School    3022020\n",
      "Griffin High School       917500\n",
      "Wilson High School       1319574\n",
      "Cabrera High School      1081356\n",
      "Bailey High School       3124928\n",
      "Holden High School        248087\n",
      "Pena High School          585858\n",
      "Wright High School       1049400\n",
      "Rodriguez High School    2547363\n",
      "Johnson High School      3094650\n",
      "Ford High School         1763916\n",
      "Thomas High School       1043130\n",
      "Name: budget, dtype: int64\n"
     ]
    }
   ],
   "source": [
    "school_budget = schools_df.set_index('school_name')['budget']\n",
    "print(school_budget)"
   ]
  },
  {
   "cell_type": "markdown",
   "metadata": {},
   "source": [
    "##### Per Student Budget\n",
    "Calculate the budget per student per school"
   ]
  },
  {
   "cell_type": "code",
   "execution_count": 20,
   "metadata": {},
   "outputs": [
    {
     "name": "stdout",
     "output_type": "stream",
     "text": [
      "school_name\n",
      "Bailey High School       628.0\n",
      "Cabrera High School      582.0\n",
      "Figueroa High School     639.0\n",
      "Ford High School         644.0\n",
      "Griffin High School      625.0\n",
      "Hernandez High School    652.0\n",
      "Holden High School       581.0\n",
      "Huang High School        655.0\n",
      "Johnson High School      650.0\n",
      "Pena High School         609.0\n",
      "Rodriguez High School    637.0\n",
      "Shelton High School      600.0\n",
      "Thomas High School       638.0\n",
      "Wilson High School       578.0\n",
      "Wright High School       583.0\n",
      "dtype: float64\n"
     ]
    }
   ],
   "source": [
    "per_student_budget = school_budget/total_student\n",
    "print(per_student_budget)"
   ]
  },
  {
   "cell_type": "markdown",
   "metadata": {},
   "source": [
    "##### Average Math Score\n",
    "Find the average math score per school"
   ]
  },
  {
   "cell_type": "code",
   "execution_count": 21,
   "metadata": {},
   "outputs": [
    {
     "name": "stdout",
     "output_type": "stream",
     "text": [
      "school_name\n",
      "Bailey High School       77.048432\n",
      "Cabrera High School      83.061895\n",
      "Figueroa High School     76.711767\n",
      "Ford High School         77.102592\n",
      "Griffin High School      83.351499\n",
      "Hernandez High School    77.289752\n",
      "Holden High School       83.803279\n",
      "Huang High School        76.629414\n",
      "Johnson High School      77.072464\n",
      "Pena High School         83.839917\n",
      "Rodriguez High School    76.842711\n",
      "Shelton High School      83.359455\n",
      "Thomas High School       83.418349\n",
      "Wilson High School       83.274201\n",
      "Wright High School       83.682222\n",
      "Name: math_score, dtype: float64\n"
     ]
    }
   ],
   "source": [
    "average_score_math = grp_by_school[\"math_score\"].mean()\n",
    "print(average_score_math)"
   ]
  },
  {
   "cell_type": "markdown",
   "metadata": {},
   "source": [
    "##### Average Reading Score\n",
    "Find the average reading score for each school"
   ]
  },
  {
   "cell_type": "code",
   "execution_count": 22,
   "metadata": {},
   "outputs": [
    {
     "name": "stdout",
     "output_type": "stream",
     "text": [
      "school_name\n",
      "Bailey High School       81.033963\n",
      "Cabrera High School      83.975780\n",
      "Figueroa High School     81.158020\n",
      "Ford High School         80.746258\n",
      "Griffin High School      83.816757\n",
      "Hernandez High School    80.934412\n",
      "Holden High School       83.814988\n",
      "Huang High School        81.182722\n",
      "Johnson High School      80.966394\n",
      "Pena High School         84.044699\n",
      "Rodriguez High School    80.744686\n",
      "Shelton High School      83.725724\n",
      "Thomas High School       83.848930\n",
      "Wilson High School       83.989488\n",
      "Wright High School       83.955000\n",
      "Name: reading_score, dtype: float64\n"
     ]
    }
   ],
   "source": [
    "average_score_reading = grp_by_school[\"reading_score\"].mean()\n",
    "print(average_score_reading)"
   ]
  },
  {
   "cell_type": "markdown",
   "metadata": {},
   "source": [
    "##### % Passing Math\n",
    "Calculate the percent of students passing math in each school"
   ]
  },
  {
   "cell_type": "code",
   "execution_count": 23,
   "metadata": {},
   "outputs": [
    {
     "name": "stdout",
     "output_type": "stream",
     "text": [
      "school_name\n",
      "Bailey High School       66.680064\n",
      "Cabrera High School      94.133477\n",
      "Figueroa High School     65.988471\n",
      "Ford High School         68.309602\n",
      "Griffin High School      93.392371\n",
      "Hernandez High School    66.752967\n",
      "Holden High School       92.505855\n",
      "Huang High School        65.683922\n",
      "Johnson High School      66.057551\n",
      "Pena High School         94.594595\n",
      "Rodriguez High School    66.366592\n",
      "Shelton High School      93.867121\n",
      "Thomas High School       93.272171\n",
      "Wilson High School       93.867718\n",
      "Wright High School       93.333333\n",
      "dtype: float64\n"
     ]
    }
   ],
   "source": [
    "percent_pass_math = (merge_df[merge_df['math_score'] >= 70].groupby('school_name')['size'].count()/total_student)*100\n",
    "print(percent_pass_math)"
   ]
  },
  {
   "cell_type": "markdown",
   "metadata": {},
   "source": [
    "##### % Passing Reading\n",
    "Calculate the percent of students passing reading in each school"
   ]
  },
  {
   "cell_type": "code",
   "execution_count": 24,
   "metadata": {},
   "outputs": [
    {
     "name": "stdout",
     "output_type": "stream",
     "text": [
      "school_name\n",
      "Bailey High School       81.933280\n",
      "Cabrera High School      97.039828\n",
      "Figueroa High School     80.739234\n",
      "Ford High School         79.299014\n",
      "Griffin High School      97.138965\n",
      "Hernandez High School    80.862999\n",
      "Holden High School       96.252927\n",
      "Huang High School        81.316421\n",
      "Johnson High School      81.222432\n",
      "Pena High School         95.945946\n",
      "Rodriguez High School    80.220055\n",
      "Shelton High School      95.854628\n",
      "Thomas High School       97.308869\n",
      "Wilson High School       96.539641\n",
      "Wright High School       96.611111\n",
      "dtype: float64\n"
     ]
    }
   ],
   "source": [
    "percent_pass_reading = (merge_df[merge_df['reading_score'] >= 70].groupby('school_name')['size'].count()/total_student)*100\n",
    "print(percent_pass_reading)"
   ]
  },
  {
   "cell_type": "markdown",
   "metadata": {},
   "source": [
    "##### % Overall Passing\n",
    "Calculate the percent of students passing both math & reading in each school"
   ]
  },
  {
   "cell_type": "code",
   "execution_count": 25,
   "metadata": {},
   "outputs": [
    {
     "name": "stdout",
     "output_type": "stream",
     "text": [
      "school_name\n",
      "Bailey High School       54.642283\n",
      "Cabrera High School      91.334769\n",
      "Figueroa High School     53.204476\n",
      "Ford High School         54.289887\n",
      "Griffin High School      90.599455\n",
      "Hernandez High School    53.527508\n",
      "Holden High School       89.227166\n",
      "Huang High School        53.513884\n",
      "Johnson High School      53.539172\n",
      "Pena High School         90.540541\n",
      "Rodriguez High School    52.988247\n",
      "Shelton High School      89.892107\n",
      "Thomas High School       90.948012\n",
      "Wilson High School       90.582567\n",
      "Wright High School       90.333333\n",
      "dtype: float64\n"
     ]
    }
   ],
   "source": [
    "overall_percent_passing = (merge_df[(merge_df['reading_score'] >= 70) & (merge_df['math_score'] >= 70)].groupby('school_name')['size'].count()/total_student)*100\n",
    "print(overall_percent_passing)"
   ]
  },
  {
   "cell_type": "markdown",
   "metadata": {},
   "source": [
    "##### Create a dataframe with all the above School Summary results\n",
    " Making a dataframe with the collected information"
   ]
  },
  {
   "cell_type": "code",
   "execution_count": 32,
   "metadata": {},
   "outputs": [],
   "source": [
    "School_summary = pd.DataFrame({\"School Type\":grp_by_school_type,\n",
    "                               \"Total Students\" : total_student,\n",
    "                               \"Total School Budget\": school_budget,\n",
    "                               \"Per Student Budget\": per_student_budget,\n",
    "                               \"Average Math Score\": average_score_math,\n",
    "                               \"Average Reading Score\": average_score_reading,\n",
    "                               \"% Passing Math\": percent_pass_math,\n",
    "                               \"% Passing Reading\": percent_pass_reading,\n",
    "                               \"% Overall Passing\": overall_percent_passing})"
   ]
  },
  {
   "cell_type": "code",
   "execution_count": 33,
   "metadata": {},
   "outputs": [],
   "source": [
    "School_summary = School_summary[[\"School Type\",\n",
    "                               \"Total Students\",\n",
    "                               \"Total School Budget\",\n",
    "                               \"Per Student Budget\",\n",
    "                               \"Average Math Score\",\n",
    "                               \"Average Reading Score\",\n",
    "                               \"% Passing Math\",\n",
    "                               \"% Passing Reading\",\n",
    "                               \"% Overall Passing\"]]\n"
   ]
  },
  {
   "cell_type": "code",
   "execution_count": 34,
   "metadata": {},
   "outputs": [
    {
     "data": {
      "text/html": [
       "<style  type=\"text/css\" >\n",
       "</style><table id=\"T_de98d0ae_e663_11ea_9a3e_ccf9e46cfbfa\" ><thead>    <tr>        <th class=\"blank level0\" ></th>        <th class=\"col_heading level0 col0\" >School Type</th>        <th class=\"col_heading level0 col1\" >Total Students</th>        <th class=\"col_heading level0 col2\" >Total School Budget</th>        <th class=\"col_heading level0 col3\" >Per Student Budget</th>        <th class=\"col_heading level0 col4\" >Average Math Score</th>        <th class=\"col_heading level0 col5\" >Average Reading Score</th>        <th class=\"col_heading level0 col6\" >% Passing Math</th>        <th class=\"col_heading level0 col7\" >% Passing Reading</th>        <th class=\"col_heading level0 col8\" >% Overall Passing</th>    </tr></thead><tbody>\n",
       "                <tr>\n",
       "                        <th id=\"T_de98d0ae_e663_11ea_9a3e_ccf9e46cfbfalevel0_row0\" class=\"row_heading level0 row0\" >Bailey High School</th>\n",
       "                        <td id=\"T_de98d0ae_e663_11ea_9a3e_ccf9e46cfbfarow0_col0\" class=\"data row0 col0\" >District</td>\n",
       "                        <td id=\"T_de98d0ae_e663_11ea_9a3e_ccf9e46cfbfarow0_col1\" class=\"data row0 col1\" >4976</td>\n",
       "                        <td id=\"T_de98d0ae_e663_11ea_9a3e_ccf9e46cfbfarow0_col2\" class=\"data row0 col2\" >$3,124,928.00</td>\n",
       "                        <td id=\"T_de98d0ae_e663_11ea_9a3e_ccf9e46cfbfarow0_col3\" class=\"data row0 col3\" >$628.00</td>\n",
       "                        <td id=\"T_de98d0ae_e663_11ea_9a3e_ccf9e46cfbfarow0_col4\" class=\"data row0 col4\" >77.048432</td>\n",
       "                        <td id=\"T_de98d0ae_e663_11ea_9a3e_ccf9e46cfbfarow0_col5\" class=\"data row0 col5\" >81.033963</td>\n",
       "                        <td id=\"T_de98d0ae_e663_11ea_9a3e_ccf9e46cfbfarow0_col6\" class=\"data row0 col6\" >66.680064</td>\n",
       "                        <td id=\"T_de98d0ae_e663_11ea_9a3e_ccf9e46cfbfarow0_col7\" class=\"data row0 col7\" >81.933280</td>\n",
       "                        <td id=\"T_de98d0ae_e663_11ea_9a3e_ccf9e46cfbfarow0_col8\" class=\"data row0 col8\" >54.642283</td>\n",
       "            </tr>\n",
       "            <tr>\n",
       "                        <th id=\"T_de98d0ae_e663_11ea_9a3e_ccf9e46cfbfalevel0_row1\" class=\"row_heading level0 row1\" >Cabrera High School</th>\n",
       "                        <td id=\"T_de98d0ae_e663_11ea_9a3e_ccf9e46cfbfarow1_col0\" class=\"data row1 col0\" >Charter</td>\n",
       "                        <td id=\"T_de98d0ae_e663_11ea_9a3e_ccf9e46cfbfarow1_col1\" class=\"data row1 col1\" >1858</td>\n",
       "                        <td id=\"T_de98d0ae_e663_11ea_9a3e_ccf9e46cfbfarow1_col2\" class=\"data row1 col2\" >$1,081,356.00</td>\n",
       "                        <td id=\"T_de98d0ae_e663_11ea_9a3e_ccf9e46cfbfarow1_col3\" class=\"data row1 col3\" >$582.00</td>\n",
       "                        <td id=\"T_de98d0ae_e663_11ea_9a3e_ccf9e46cfbfarow1_col4\" class=\"data row1 col4\" >83.061895</td>\n",
       "                        <td id=\"T_de98d0ae_e663_11ea_9a3e_ccf9e46cfbfarow1_col5\" class=\"data row1 col5\" >83.975780</td>\n",
       "                        <td id=\"T_de98d0ae_e663_11ea_9a3e_ccf9e46cfbfarow1_col6\" class=\"data row1 col6\" >94.133477</td>\n",
       "                        <td id=\"T_de98d0ae_e663_11ea_9a3e_ccf9e46cfbfarow1_col7\" class=\"data row1 col7\" >97.039828</td>\n",
       "                        <td id=\"T_de98d0ae_e663_11ea_9a3e_ccf9e46cfbfarow1_col8\" class=\"data row1 col8\" >91.334769</td>\n",
       "            </tr>\n",
       "            <tr>\n",
       "                        <th id=\"T_de98d0ae_e663_11ea_9a3e_ccf9e46cfbfalevel0_row2\" class=\"row_heading level0 row2\" >Figueroa High School</th>\n",
       "                        <td id=\"T_de98d0ae_e663_11ea_9a3e_ccf9e46cfbfarow2_col0\" class=\"data row2 col0\" >District</td>\n",
       "                        <td id=\"T_de98d0ae_e663_11ea_9a3e_ccf9e46cfbfarow2_col1\" class=\"data row2 col1\" >2949</td>\n",
       "                        <td id=\"T_de98d0ae_e663_11ea_9a3e_ccf9e46cfbfarow2_col2\" class=\"data row2 col2\" >$1,884,411.00</td>\n",
       "                        <td id=\"T_de98d0ae_e663_11ea_9a3e_ccf9e46cfbfarow2_col3\" class=\"data row2 col3\" >$639.00</td>\n",
       "                        <td id=\"T_de98d0ae_e663_11ea_9a3e_ccf9e46cfbfarow2_col4\" class=\"data row2 col4\" >76.711767</td>\n",
       "                        <td id=\"T_de98d0ae_e663_11ea_9a3e_ccf9e46cfbfarow2_col5\" class=\"data row2 col5\" >81.158020</td>\n",
       "                        <td id=\"T_de98d0ae_e663_11ea_9a3e_ccf9e46cfbfarow2_col6\" class=\"data row2 col6\" >65.988471</td>\n",
       "                        <td id=\"T_de98d0ae_e663_11ea_9a3e_ccf9e46cfbfarow2_col7\" class=\"data row2 col7\" >80.739234</td>\n",
       "                        <td id=\"T_de98d0ae_e663_11ea_9a3e_ccf9e46cfbfarow2_col8\" class=\"data row2 col8\" >53.204476</td>\n",
       "            </tr>\n",
       "            <tr>\n",
       "                        <th id=\"T_de98d0ae_e663_11ea_9a3e_ccf9e46cfbfalevel0_row3\" class=\"row_heading level0 row3\" >Ford High School</th>\n",
       "                        <td id=\"T_de98d0ae_e663_11ea_9a3e_ccf9e46cfbfarow3_col0\" class=\"data row3 col0\" >District</td>\n",
       "                        <td id=\"T_de98d0ae_e663_11ea_9a3e_ccf9e46cfbfarow3_col1\" class=\"data row3 col1\" >2739</td>\n",
       "                        <td id=\"T_de98d0ae_e663_11ea_9a3e_ccf9e46cfbfarow3_col2\" class=\"data row3 col2\" >$1,763,916.00</td>\n",
       "                        <td id=\"T_de98d0ae_e663_11ea_9a3e_ccf9e46cfbfarow3_col3\" class=\"data row3 col3\" >$644.00</td>\n",
       "                        <td id=\"T_de98d0ae_e663_11ea_9a3e_ccf9e46cfbfarow3_col4\" class=\"data row3 col4\" >77.102592</td>\n",
       "                        <td id=\"T_de98d0ae_e663_11ea_9a3e_ccf9e46cfbfarow3_col5\" class=\"data row3 col5\" >80.746258</td>\n",
       "                        <td id=\"T_de98d0ae_e663_11ea_9a3e_ccf9e46cfbfarow3_col6\" class=\"data row3 col6\" >68.309602</td>\n",
       "                        <td id=\"T_de98d0ae_e663_11ea_9a3e_ccf9e46cfbfarow3_col7\" class=\"data row3 col7\" >79.299014</td>\n",
       "                        <td id=\"T_de98d0ae_e663_11ea_9a3e_ccf9e46cfbfarow3_col8\" class=\"data row3 col8\" >54.289887</td>\n",
       "            </tr>\n",
       "            <tr>\n",
       "                        <th id=\"T_de98d0ae_e663_11ea_9a3e_ccf9e46cfbfalevel0_row4\" class=\"row_heading level0 row4\" >Griffin High School</th>\n",
       "                        <td id=\"T_de98d0ae_e663_11ea_9a3e_ccf9e46cfbfarow4_col0\" class=\"data row4 col0\" >Charter</td>\n",
       "                        <td id=\"T_de98d0ae_e663_11ea_9a3e_ccf9e46cfbfarow4_col1\" class=\"data row4 col1\" >1468</td>\n",
       "                        <td id=\"T_de98d0ae_e663_11ea_9a3e_ccf9e46cfbfarow4_col2\" class=\"data row4 col2\" >$917,500.00</td>\n",
       "                        <td id=\"T_de98d0ae_e663_11ea_9a3e_ccf9e46cfbfarow4_col3\" class=\"data row4 col3\" >$625.00</td>\n",
       "                        <td id=\"T_de98d0ae_e663_11ea_9a3e_ccf9e46cfbfarow4_col4\" class=\"data row4 col4\" >83.351499</td>\n",
       "                        <td id=\"T_de98d0ae_e663_11ea_9a3e_ccf9e46cfbfarow4_col5\" class=\"data row4 col5\" >83.816757</td>\n",
       "                        <td id=\"T_de98d0ae_e663_11ea_9a3e_ccf9e46cfbfarow4_col6\" class=\"data row4 col6\" >93.392371</td>\n",
       "                        <td id=\"T_de98d0ae_e663_11ea_9a3e_ccf9e46cfbfarow4_col7\" class=\"data row4 col7\" >97.138965</td>\n",
       "                        <td id=\"T_de98d0ae_e663_11ea_9a3e_ccf9e46cfbfarow4_col8\" class=\"data row4 col8\" >90.599455</td>\n",
       "            </tr>\n",
       "            <tr>\n",
       "                        <th id=\"T_de98d0ae_e663_11ea_9a3e_ccf9e46cfbfalevel0_row5\" class=\"row_heading level0 row5\" >Hernandez High School</th>\n",
       "                        <td id=\"T_de98d0ae_e663_11ea_9a3e_ccf9e46cfbfarow5_col0\" class=\"data row5 col0\" >District</td>\n",
       "                        <td id=\"T_de98d0ae_e663_11ea_9a3e_ccf9e46cfbfarow5_col1\" class=\"data row5 col1\" >4635</td>\n",
       "                        <td id=\"T_de98d0ae_e663_11ea_9a3e_ccf9e46cfbfarow5_col2\" class=\"data row5 col2\" >$3,022,020.00</td>\n",
       "                        <td id=\"T_de98d0ae_e663_11ea_9a3e_ccf9e46cfbfarow5_col3\" class=\"data row5 col3\" >$652.00</td>\n",
       "                        <td id=\"T_de98d0ae_e663_11ea_9a3e_ccf9e46cfbfarow5_col4\" class=\"data row5 col4\" >77.289752</td>\n",
       "                        <td id=\"T_de98d0ae_e663_11ea_9a3e_ccf9e46cfbfarow5_col5\" class=\"data row5 col5\" >80.934412</td>\n",
       "                        <td id=\"T_de98d0ae_e663_11ea_9a3e_ccf9e46cfbfarow5_col6\" class=\"data row5 col6\" >66.752967</td>\n",
       "                        <td id=\"T_de98d0ae_e663_11ea_9a3e_ccf9e46cfbfarow5_col7\" class=\"data row5 col7\" >80.862999</td>\n",
       "                        <td id=\"T_de98d0ae_e663_11ea_9a3e_ccf9e46cfbfarow5_col8\" class=\"data row5 col8\" >53.527508</td>\n",
       "            </tr>\n",
       "            <tr>\n",
       "                        <th id=\"T_de98d0ae_e663_11ea_9a3e_ccf9e46cfbfalevel0_row6\" class=\"row_heading level0 row6\" >Holden High School</th>\n",
       "                        <td id=\"T_de98d0ae_e663_11ea_9a3e_ccf9e46cfbfarow6_col0\" class=\"data row6 col0\" >Charter</td>\n",
       "                        <td id=\"T_de98d0ae_e663_11ea_9a3e_ccf9e46cfbfarow6_col1\" class=\"data row6 col1\" >427</td>\n",
       "                        <td id=\"T_de98d0ae_e663_11ea_9a3e_ccf9e46cfbfarow6_col2\" class=\"data row6 col2\" >$248,087.00</td>\n",
       "                        <td id=\"T_de98d0ae_e663_11ea_9a3e_ccf9e46cfbfarow6_col3\" class=\"data row6 col3\" >$581.00</td>\n",
       "                        <td id=\"T_de98d0ae_e663_11ea_9a3e_ccf9e46cfbfarow6_col4\" class=\"data row6 col4\" >83.803279</td>\n",
       "                        <td id=\"T_de98d0ae_e663_11ea_9a3e_ccf9e46cfbfarow6_col5\" class=\"data row6 col5\" >83.814988</td>\n",
       "                        <td id=\"T_de98d0ae_e663_11ea_9a3e_ccf9e46cfbfarow6_col6\" class=\"data row6 col6\" >92.505855</td>\n",
       "                        <td id=\"T_de98d0ae_e663_11ea_9a3e_ccf9e46cfbfarow6_col7\" class=\"data row6 col7\" >96.252927</td>\n",
       "                        <td id=\"T_de98d0ae_e663_11ea_9a3e_ccf9e46cfbfarow6_col8\" class=\"data row6 col8\" >89.227166</td>\n",
       "            </tr>\n",
       "            <tr>\n",
       "                        <th id=\"T_de98d0ae_e663_11ea_9a3e_ccf9e46cfbfalevel0_row7\" class=\"row_heading level0 row7\" >Huang High School</th>\n",
       "                        <td id=\"T_de98d0ae_e663_11ea_9a3e_ccf9e46cfbfarow7_col0\" class=\"data row7 col0\" >District</td>\n",
       "                        <td id=\"T_de98d0ae_e663_11ea_9a3e_ccf9e46cfbfarow7_col1\" class=\"data row7 col1\" >2917</td>\n",
       "                        <td id=\"T_de98d0ae_e663_11ea_9a3e_ccf9e46cfbfarow7_col2\" class=\"data row7 col2\" >$1,910,635.00</td>\n",
       "                        <td id=\"T_de98d0ae_e663_11ea_9a3e_ccf9e46cfbfarow7_col3\" class=\"data row7 col3\" >$655.00</td>\n",
       "                        <td id=\"T_de98d0ae_e663_11ea_9a3e_ccf9e46cfbfarow7_col4\" class=\"data row7 col4\" >76.629414</td>\n",
       "                        <td id=\"T_de98d0ae_e663_11ea_9a3e_ccf9e46cfbfarow7_col5\" class=\"data row7 col5\" >81.182722</td>\n",
       "                        <td id=\"T_de98d0ae_e663_11ea_9a3e_ccf9e46cfbfarow7_col6\" class=\"data row7 col6\" >65.683922</td>\n",
       "                        <td id=\"T_de98d0ae_e663_11ea_9a3e_ccf9e46cfbfarow7_col7\" class=\"data row7 col7\" >81.316421</td>\n",
       "                        <td id=\"T_de98d0ae_e663_11ea_9a3e_ccf9e46cfbfarow7_col8\" class=\"data row7 col8\" >53.513884</td>\n",
       "            </tr>\n",
       "            <tr>\n",
       "                        <th id=\"T_de98d0ae_e663_11ea_9a3e_ccf9e46cfbfalevel0_row8\" class=\"row_heading level0 row8\" >Johnson High School</th>\n",
       "                        <td id=\"T_de98d0ae_e663_11ea_9a3e_ccf9e46cfbfarow8_col0\" class=\"data row8 col0\" >District</td>\n",
       "                        <td id=\"T_de98d0ae_e663_11ea_9a3e_ccf9e46cfbfarow8_col1\" class=\"data row8 col1\" >4761</td>\n",
       "                        <td id=\"T_de98d0ae_e663_11ea_9a3e_ccf9e46cfbfarow8_col2\" class=\"data row8 col2\" >$3,094,650.00</td>\n",
       "                        <td id=\"T_de98d0ae_e663_11ea_9a3e_ccf9e46cfbfarow8_col3\" class=\"data row8 col3\" >$650.00</td>\n",
       "                        <td id=\"T_de98d0ae_e663_11ea_9a3e_ccf9e46cfbfarow8_col4\" class=\"data row8 col4\" >77.072464</td>\n",
       "                        <td id=\"T_de98d0ae_e663_11ea_9a3e_ccf9e46cfbfarow8_col5\" class=\"data row8 col5\" >80.966394</td>\n",
       "                        <td id=\"T_de98d0ae_e663_11ea_9a3e_ccf9e46cfbfarow8_col6\" class=\"data row8 col6\" >66.057551</td>\n",
       "                        <td id=\"T_de98d0ae_e663_11ea_9a3e_ccf9e46cfbfarow8_col7\" class=\"data row8 col7\" >81.222432</td>\n",
       "                        <td id=\"T_de98d0ae_e663_11ea_9a3e_ccf9e46cfbfarow8_col8\" class=\"data row8 col8\" >53.539172</td>\n",
       "            </tr>\n",
       "            <tr>\n",
       "                        <th id=\"T_de98d0ae_e663_11ea_9a3e_ccf9e46cfbfalevel0_row9\" class=\"row_heading level0 row9\" >Pena High School</th>\n",
       "                        <td id=\"T_de98d0ae_e663_11ea_9a3e_ccf9e46cfbfarow9_col0\" class=\"data row9 col0\" >Charter</td>\n",
       "                        <td id=\"T_de98d0ae_e663_11ea_9a3e_ccf9e46cfbfarow9_col1\" class=\"data row9 col1\" >962</td>\n",
       "                        <td id=\"T_de98d0ae_e663_11ea_9a3e_ccf9e46cfbfarow9_col2\" class=\"data row9 col2\" >$585,858.00</td>\n",
       "                        <td id=\"T_de98d0ae_e663_11ea_9a3e_ccf9e46cfbfarow9_col3\" class=\"data row9 col3\" >$609.00</td>\n",
       "                        <td id=\"T_de98d0ae_e663_11ea_9a3e_ccf9e46cfbfarow9_col4\" class=\"data row9 col4\" >83.839917</td>\n",
       "                        <td id=\"T_de98d0ae_e663_11ea_9a3e_ccf9e46cfbfarow9_col5\" class=\"data row9 col5\" >84.044699</td>\n",
       "                        <td id=\"T_de98d0ae_e663_11ea_9a3e_ccf9e46cfbfarow9_col6\" class=\"data row9 col6\" >94.594595</td>\n",
       "                        <td id=\"T_de98d0ae_e663_11ea_9a3e_ccf9e46cfbfarow9_col7\" class=\"data row9 col7\" >95.945946</td>\n",
       "                        <td id=\"T_de98d0ae_e663_11ea_9a3e_ccf9e46cfbfarow9_col8\" class=\"data row9 col8\" >90.540541</td>\n",
       "            </tr>\n",
       "            <tr>\n",
       "                        <th id=\"T_de98d0ae_e663_11ea_9a3e_ccf9e46cfbfalevel0_row10\" class=\"row_heading level0 row10\" >Rodriguez High School</th>\n",
       "                        <td id=\"T_de98d0ae_e663_11ea_9a3e_ccf9e46cfbfarow10_col0\" class=\"data row10 col0\" >District</td>\n",
       "                        <td id=\"T_de98d0ae_e663_11ea_9a3e_ccf9e46cfbfarow10_col1\" class=\"data row10 col1\" >3999</td>\n",
       "                        <td id=\"T_de98d0ae_e663_11ea_9a3e_ccf9e46cfbfarow10_col2\" class=\"data row10 col2\" >$2,547,363.00</td>\n",
       "                        <td id=\"T_de98d0ae_e663_11ea_9a3e_ccf9e46cfbfarow10_col3\" class=\"data row10 col3\" >$637.00</td>\n",
       "                        <td id=\"T_de98d0ae_e663_11ea_9a3e_ccf9e46cfbfarow10_col4\" class=\"data row10 col4\" >76.842711</td>\n",
       "                        <td id=\"T_de98d0ae_e663_11ea_9a3e_ccf9e46cfbfarow10_col5\" class=\"data row10 col5\" >80.744686</td>\n",
       "                        <td id=\"T_de98d0ae_e663_11ea_9a3e_ccf9e46cfbfarow10_col6\" class=\"data row10 col6\" >66.366592</td>\n",
       "                        <td id=\"T_de98d0ae_e663_11ea_9a3e_ccf9e46cfbfarow10_col7\" class=\"data row10 col7\" >80.220055</td>\n",
       "                        <td id=\"T_de98d0ae_e663_11ea_9a3e_ccf9e46cfbfarow10_col8\" class=\"data row10 col8\" >52.988247</td>\n",
       "            </tr>\n",
       "            <tr>\n",
       "                        <th id=\"T_de98d0ae_e663_11ea_9a3e_ccf9e46cfbfalevel0_row11\" class=\"row_heading level0 row11\" >Shelton High School</th>\n",
       "                        <td id=\"T_de98d0ae_e663_11ea_9a3e_ccf9e46cfbfarow11_col0\" class=\"data row11 col0\" >Charter</td>\n",
       "                        <td id=\"T_de98d0ae_e663_11ea_9a3e_ccf9e46cfbfarow11_col1\" class=\"data row11 col1\" >1761</td>\n",
       "                        <td id=\"T_de98d0ae_e663_11ea_9a3e_ccf9e46cfbfarow11_col2\" class=\"data row11 col2\" >$1,056,600.00</td>\n",
       "                        <td id=\"T_de98d0ae_e663_11ea_9a3e_ccf9e46cfbfarow11_col3\" class=\"data row11 col3\" >$600.00</td>\n",
       "                        <td id=\"T_de98d0ae_e663_11ea_9a3e_ccf9e46cfbfarow11_col4\" class=\"data row11 col4\" >83.359455</td>\n",
       "                        <td id=\"T_de98d0ae_e663_11ea_9a3e_ccf9e46cfbfarow11_col5\" class=\"data row11 col5\" >83.725724</td>\n",
       "                        <td id=\"T_de98d0ae_e663_11ea_9a3e_ccf9e46cfbfarow11_col6\" class=\"data row11 col6\" >93.867121</td>\n",
       "                        <td id=\"T_de98d0ae_e663_11ea_9a3e_ccf9e46cfbfarow11_col7\" class=\"data row11 col7\" >95.854628</td>\n",
       "                        <td id=\"T_de98d0ae_e663_11ea_9a3e_ccf9e46cfbfarow11_col8\" class=\"data row11 col8\" >89.892107</td>\n",
       "            </tr>\n",
       "            <tr>\n",
       "                        <th id=\"T_de98d0ae_e663_11ea_9a3e_ccf9e46cfbfalevel0_row12\" class=\"row_heading level0 row12\" >Thomas High School</th>\n",
       "                        <td id=\"T_de98d0ae_e663_11ea_9a3e_ccf9e46cfbfarow12_col0\" class=\"data row12 col0\" >Charter</td>\n",
       "                        <td id=\"T_de98d0ae_e663_11ea_9a3e_ccf9e46cfbfarow12_col1\" class=\"data row12 col1\" >1635</td>\n",
       "                        <td id=\"T_de98d0ae_e663_11ea_9a3e_ccf9e46cfbfarow12_col2\" class=\"data row12 col2\" >$1,043,130.00</td>\n",
       "                        <td id=\"T_de98d0ae_e663_11ea_9a3e_ccf9e46cfbfarow12_col3\" class=\"data row12 col3\" >$638.00</td>\n",
       "                        <td id=\"T_de98d0ae_e663_11ea_9a3e_ccf9e46cfbfarow12_col4\" class=\"data row12 col4\" >83.418349</td>\n",
       "                        <td id=\"T_de98d0ae_e663_11ea_9a3e_ccf9e46cfbfarow12_col5\" class=\"data row12 col5\" >83.848930</td>\n",
       "                        <td id=\"T_de98d0ae_e663_11ea_9a3e_ccf9e46cfbfarow12_col6\" class=\"data row12 col6\" >93.272171</td>\n",
       "                        <td id=\"T_de98d0ae_e663_11ea_9a3e_ccf9e46cfbfarow12_col7\" class=\"data row12 col7\" >97.308869</td>\n",
       "                        <td id=\"T_de98d0ae_e663_11ea_9a3e_ccf9e46cfbfarow12_col8\" class=\"data row12 col8\" >90.948012</td>\n",
       "            </tr>\n",
       "            <tr>\n",
       "                        <th id=\"T_de98d0ae_e663_11ea_9a3e_ccf9e46cfbfalevel0_row13\" class=\"row_heading level0 row13\" >Wilson High School</th>\n",
       "                        <td id=\"T_de98d0ae_e663_11ea_9a3e_ccf9e46cfbfarow13_col0\" class=\"data row13 col0\" >Charter</td>\n",
       "                        <td id=\"T_de98d0ae_e663_11ea_9a3e_ccf9e46cfbfarow13_col1\" class=\"data row13 col1\" >2283</td>\n",
       "                        <td id=\"T_de98d0ae_e663_11ea_9a3e_ccf9e46cfbfarow13_col2\" class=\"data row13 col2\" >$1,319,574.00</td>\n",
       "                        <td id=\"T_de98d0ae_e663_11ea_9a3e_ccf9e46cfbfarow13_col3\" class=\"data row13 col3\" >$578.00</td>\n",
       "                        <td id=\"T_de98d0ae_e663_11ea_9a3e_ccf9e46cfbfarow13_col4\" class=\"data row13 col4\" >83.274201</td>\n",
       "                        <td id=\"T_de98d0ae_e663_11ea_9a3e_ccf9e46cfbfarow13_col5\" class=\"data row13 col5\" >83.989488</td>\n",
       "                        <td id=\"T_de98d0ae_e663_11ea_9a3e_ccf9e46cfbfarow13_col6\" class=\"data row13 col6\" >93.867718</td>\n",
       "                        <td id=\"T_de98d0ae_e663_11ea_9a3e_ccf9e46cfbfarow13_col7\" class=\"data row13 col7\" >96.539641</td>\n",
       "                        <td id=\"T_de98d0ae_e663_11ea_9a3e_ccf9e46cfbfarow13_col8\" class=\"data row13 col8\" >90.582567</td>\n",
       "            </tr>\n",
       "            <tr>\n",
       "                        <th id=\"T_de98d0ae_e663_11ea_9a3e_ccf9e46cfbfalevel0_row14\" class=\"row_heading level0 row14\" >Wright High School</th>\n",
       "                        <td id=\"T_de98d0ae_e663_11ea_9a3e_ccf9e46cfbfarow14_col0\" class=\"data row14 col0\" >Charter</td>\n",
       "                        <td id=\"T_de98d0ae_e663_11ea_9a3e_ccf9e46cfbfarow14_col1\" class=\"data row14 col1\" >1800</td>\n",
       "                        <td id=\"T_de98d0ae_e663_11ea_9a3e_ccf9e46cfbfarow14_col2\" class=\"data row14 col2\" >$1,049,400.00</td>\n",
       "                        <td id=\"T_de98d0ae_e663_11ea_9a3e_ccf9e46cfbfarow14_col3\" class=\"data row14 col3\" >$583.00</td>\n",
       "                        <td id=\"T_de98d0ae_e663_11ea_9a3e_ccf9e46cfbfarow14_col4\" class=\"data row14 col4\" >83.682222</td>\n",
       "                        <td id=\"T_de98d0ae_e663_11ea_9a3e_ccf9e46cfbfarow14_col5\" class=\"data row14 col5\" >83.955000</td>\n",
       "                        <td id=\"T_de98d0ae_e663_11ea_9a3e_ccf9e46cfbfarow14_col6\" class=\"data row14 col6\" >93.333333</td>\n",
       "                        <td id=\"T_de98d0ae_e663_11ea_9a3e_ccf9e46cfbfarow14_col7\" class=\"data row14 col7\" >96.611111</td>\n",
       "                        <td id=\"T_de98d0ae_e663_11ea_9a3e_ccf9e46cfbfarow14_col8\" class=\"data row14 col8\" >90.333333</td>\n",
       "            </tr>\n",
       "    </tbody></table>"
      ],
      "text/plain": [
       "<pandas.io.formats.style.Styler at 0x24264b52f48>"
      ]
     },
     "execution_count": 34,
     "metadata": {},
     "output_type": "execute_result"
    }
   ],
   "source": [
    "School_summary.style.format({\"Total School Budget\": \"${:,.2f}\", \n",
    "                             \"Per Student Budget\": \"${:,.2f}\",\n",
    "                             \"Average Math Score\": \"{:.6f}\",\n",
    "                             \"Average Reading Score\": \"{:.6f}\", \n",
    "                             \"% Passing Math\": \"{:.6f}\", \n",
    "                             \"% Passing Reading\": \"{:.6f}\", \n",
    "                             \"% Overall Passing\": \"{:.6f}\"})\n",
    "\n"
   ]
  },
  {
   "cell_type": "code",
   "execution_count": null,
   "metadata": {},
   "outputs": [],
   "source": []
  },
  {
   "cell_type": "code",
   "execution_count": null,
   "metadata": {},
   "outputs": [],
   "source": []
  }
 ],
 "metadata": {
  "kernelspec": {
   "display_name": "Python 3",
   "language": "python",
   "name": "python3"
  },
  "language_info": {
   "codemirror_mode": {
    "name": "ipython",
    "version": 3
   },
   "file_extension": ".py",
   "mimetype": "text/x-python",
   "name": "python",
   "nbconvert_exporter": "python",
   "pygments_lexer": "ipython3",
   "version": "3.7.6"
  }
 },
 "nbformat": 4,
 "nbformat_minor": 4
}
